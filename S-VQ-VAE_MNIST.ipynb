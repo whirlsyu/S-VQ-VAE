{
 "cells": [
  {
   "cell_type": "markdown",
   "metadata": {},
   "source": [
    "# Supervised Vector-Quantized Variational AutoEncoder (S-VQ-VAE)"
   ]
  },
  {
   "cell_type": "markdown",
   "metadata": {},
   "source": [
    "## Example applicatoin on MNIST data"
   ]
  },
  {
   "cell_type": "markdown",
   "metadata": {},
   "source": [
    "Some codes are referred to the following resources:\n",
    "\n",
    "https://github.com/zalandoresearch/pytorch-vq-vae/blob/master/vq-vae.ipynb\n",
    "\n",
    "https://github.com/nadavbh12/VQ-VAE/blob/master/vq_vae/auto_encoder.py\n",
    "\n",
    "https://github.com/ritheshkumar95/pytorch-vqvae/blob/master/modules.py"
   ]
  },
  {
   "cell_type": "code",
   "execution_count": 5,
   "metadata": {},
   "outputs": [],
   "source": [
    "from __future__ import division\n",
    "import sys\n",
    "import math\n",
    "import time\n",
    "import operator\n",
    "import numpy as np\n",
    "import matplotlib.pyplot as plt\n",
    "import torch\n",
    "from torch import nn\n",
    "import torch.nn.functional as F\n",
    "from torch.autograd import Variable\n",
    "from torch.utils import data as Tdata\n",
    "import torchvision.datasets as datasets\n",
    "from torchvision import transforms\n",
    "from sklearn.preprocessing import StandardScaler\n",
    "from sklearn.decomposition import PCA\n",
    "from sklearn.metrics import pairwise_distances\n",
    "from scipy.stats import gaussian_kde\n",
    "import seaborn as sns"
   ]
  },
  {
   "cell_type": "markdown",
   "metadata": {},
   "source": [
    "##  Define S-VQ-VAE"
   ]
  },
  {
   "cell_type": "code",
   "execution_count": 6,
   "metadata": {},
   "outputs": [],
   "source": [
    "device = torch.device(\"cuda\" if torch.cuda.is_available() else \"cpu\")"
   ]
  },
  {
   "cell_type": "markdown",
   "metadata": {},
   "source": [
    "### VQ for S-VQ-VAE"
   ]
  },
  {
   "cell_type": "code",
   "execution_count": 8,
   "metadata": {},
   "outputs": [],
   "source": [
    "class VectorQuantizer(nn.Module):\n",
    "    def __init__(self, num_embeddings, embedding_dim, commitment_cost, divergence_cost):\n",
    "        super(VectorQuantizer, self).__init__()\n",
    "        \n",
    "        self._embedding_dim = embedding_dim\n",
    "        self._num_embeddings = num_embeddings\n",
    "        \n",
    "        self._embedding = nn.Embedding(self._num_embeddings, self._embedding_dim)\n",
    "        self._embedding.weight.data.uniform_(-1/self._num_embeddings, 1/self._num_embeddings)\n",
    "        self._commitment_cost = commitment_cost\n",
    "        self._divergence_cost = divergence_cost\n",
    "    \n",
    "    def forward(self, inputs, label):\n",
    "        # Calculate distances\n",
    "        distances = (torch.sum(inputs**2, dim=1, keepdim=True) \n",
    "                    + torch.sum(self._embedding.weight**2, dim=1)\n",
    "                    - 2 * torch.matmul(inputs, self._embedding.weight.t()))\n",
    "            \n",
    "        # Encoding\n",
    "        encoding_indices = torch.reshape(label,(label.shape[0], 1))\n",
    "        encodings = torch.zeros(encoding_indices.shape[0], self._num_embeddings).to(device)\n",
    "        encodings.scatter_(1, encoding_indices, 1)\n",
    "        \n",
    "        close_indices = torch.argmin(distances, dim=1).unsqueeze(1)\n",
    "        close_encodings = torch.zeros(close_indices.shape[0], self._num_embeddings).to(device)\n",
    "        close_encodings.scatter_(1, close_indices, 1)\n",
    "        \n",
    "        indicator = 1 - (encoding_indices == close_indices).int()\n",
    "        indicator = indicator.float()\n",
    "        \n",
    "        # Quantize\n",
    "        quantized = torch.matmul(encodings, self._embedding.weight)\n",
    "        close_quantized = torch.matmul(close_encodings, self._embedding.weight)\n",
    "        \n",
    "        # Loss\n",
    "        q_latent_loss = torch.mean((quantized - inputs.detach())**2)\n",
    "        e_latent_loss = torch.mean((quantized.detach() - inputs)**2)\n",
    "        x_latent_loss = torch.mean(indicator * ((close_quantized - inputs.detach())**2))\n",
    "        d_latent_loss = torch.mean(indicator * ((close_quantized.detach() - inputs)**2))\n",
    "        loss = q_latent_loss + self._commitment_cost * e_latent_loss - x_latent_loss - self._divergence_cost * d_latent_loss\n",
    "        \n",
    "        quantized = inputs + (quantized - inputs).detach()\n",
    "        avg_probs = torch.mean(encodings, dim=0)\n",
    "        perplexity = torch.exp(-torch.sum(avg_probs * torch.log(avg_probs + 1e-10)))\n",
    "        \n",
    "        return loss, quantized, perplexity, encodings"
   ]
  },
  {
   "cell_type": "markdown",
   "metadata": {},
   "source": [
    "### VQ for standard VQ-VAE"
   ]
  },
  {
   "cell_type": "code",
   "execution_count": 9,
   "metadata": {},
   "outputs": [],
   "source": [
    "class VectorQuantizer_normal(nn.Module):\n",
    "    def __init__(self, num_embeddings, embedding_dim, commitment_cost, divergence_cost):\n",
    "        super(VectorQuantizer_normal, self).__init__()\n",
    "        \n",
    "        self._embedding_dim = embedding_dim\n",
    "        self._num_embeddings = num_embeddings\n",
    "        \n",
    "        self._embedding = nn.Embedding(self._num_embeddings, self._embedding_dim)\n",
    "        self._embedding.weight.data.uniform_(-1/self._num_embeddings, 1/self._num_embeddings)\n",
    "        self._commitment_cost = commitment_cost\n",
    "    \n",
    "    def forward(self, inputs, label):\n",
    "        # Calculate distances\n",
    "        distances = (torch.sum(inputs**2, dim=1, keepdim=True) \n",
    "                    + torch.sum(self._embedding.weight**2, dim=1)\n",
    "                    - 2 * torch.matmul(inputs, self._embedding.weight.t()))\n",
    "            \n",
    "        # Encoding\n",
    "        encoding_indices = torch.argmin(distances, dim=1).unsqueeze(1)\n",
    "        encodings = torch.zeros(encoding_indices.shape[0], self._num_embeddings).to(device)\n",
    "        encodings.scatter_(1, encoding_indices, 1)\n",
    "        \n",
    "        # Quantize\n",
    "        quantized = torch.matmul(encodings, self._embedding.weight)\n",
    "        \n",
    "        # Loss\n",
    "        e_latent_loss = torch.mean((quantized.detach() - inputs)**2)\n",
    "        q_latent_loss = torch.mean((quantized - inputs.detach())**2)\n",
    "        loss = q_latent_loss + self._commitment_cost * e_latent_loss\n",
    "        \n",
    "        quantized = inputs + (quantized - inputs).detach()\n",
    "        avg_probs = torch.mean(encodings, dim=0)\n",
    "        perplexity = torch.exp(-torch.sum(avg_probs * torch.log(avg_probs + 1e-10)))\n",
    "        \n",
    "        return loss, quantized, perplexity, encodings"
   ]
  },
  {
   "cell_type": "markdown",
   "metadata": {},
   "source": [
    "### S-VQ-VAE model"
   ]
  },
  {
   "cell_type": "code",
   "execution_count": 10,
   "metadata": {},
   "outputs": [],
   "source": [
    "class S_VQ_VAE(nn.Module):\n",
    "    def __init__(self, num_embeddings, embedding_dim, commitment_cost, divergence_cost, normal=0):\n",
    "        super(S_VQ_VAE, self).__init__()\n",
    "        self.fc1 = nn.Tanh()\n",
    "\n",
    "        self.encoder = nn.Sequential(\n",
    "            nn.Conv2d(1, 20, 5, 2), # 20 x (28-(5-1))/2 x (28-(5-1))/2 = 20 x 12 x 12\n",
    "            nn.ReLU(True),\n",
    "            nn.Conv2d(20, 50, 5, 1), # 50 x (12-(5-1))/1 x (12-(5-1))/1 = 50 x 8 x 8\n",
    "            nn.ReLU(True))\n",
    "        \n",
    "        \n",
    "        if normal > 0:\n",
    "            self._vq = VectorQuantizer_normal(num_embeddings, embedding_dim, \n",
    "                                              commitment_cost, divergence_cost)\n",
    "        else:\n",
    "            self._vq = VectorQuantizer(num_embeddings, embedding_dim,\n",
    "                                           commitment_cost, divergence_cost)\n",
    "\n",
    "        self.decoder = nn.Sequential(\n",
    "            nn.ConvTranspose2d(50, 20, 3, 3), # 20 x (8-1)*3+1+2 x (8-1)*3+1+2 = 20 x 24 x 24\n",
    "            nn.ReLU(True),\n",
    "            nn.ConvTranspose2d(20, 1, 5, 1), # 1 x 24+4 x 24+4 = 1 x 28 x 28\n",
    "            nn.Tanh())\n",
    "\n",
    "    def forward(self, x, label):\n",
    "        z = self.encoder(x)\n",
    "        z = z.view(-1, 8*8*50)\n",
    "        z = self.fc1(z)\n",
    "        loss, quantized, perplexity, encodings = self._vq(z, label)\n",
    "        quantized = quantized.view(-1,50,8,8)\n",
    "        x_recon = self.decoder(quantized)        \n",
    "        return loss, x_recon, perplexity, encodings, quantized"
   ]
  },
  {
   "cell_type": "markdown",
   "metadata": {},
   "source": [
    "## Train on MNSIT data"
   ]
  },
  {
   "cell_type": "markdown",
   "metadata": {},
   "source": [
    "### Load MNIST data"
   ]
  },
  {
   "cell_type": "code",
   "execution_count": 21,
   "metadata": {},
   "outputs": [
    {
     "name": "stdout",
     "output_type": "stream",
     "text": [
      "60000\n",
      "10000\n"
     ]
    }
   ],
   "source": [
    "img_transform = transforms.Compose([\n",
    "    transforms.ToTensor(),\n",
    "    transforms.Normalize((0.5, 0.5, 0.5), (0.5, 0.5, 0.5))\n",
    "])\n",
    "\n",
    "img_transform = transforms.Compose([\n",
    "transforms.ToTensor(), transforms.Normalize([0.5], [0.5])\n",
    "])\n",
    "trainDataset = datasets.MNIST('./data', download=True, train=True, transform=img_transform)\n",
    "testDataset = datasets.MNIST('./data', download=True, train=False, transform=img_transform)\n",
    "print(len(trainDataset))\n",
    "print(len(testDataset))"
   ]
  },
  {
   "cell_type": "markdown",
   "metadata": {},
   "source": [
    "### Start training"
   ]
  },
  {
   "cell_type": "code",
   "execution_count": 22,
   "metadata": {},
   "outputs": [],
   "source": [
    "num_epochs = 25\n",
    "batch_size = 256\n",
    "learning_rate = 1e-3\n",
    "embedding_dim = 50*8*8\n",
    "num_embeddings = 10\n",
    "commitment_cost = 0.25\n",
    "divergence_cost = 0.1\n",
    "normal = 0\n",
    "\n",
    "model_S_VQ_VAE = S_VQ_VAE(num_embeddings, embedding_dim, commitment_cost, divergence_cost, normal).to(device)\n",
    "optimizer  = torch.optim.Adam(model_S_VQ_VAE.parameters(), lr=learning_rate, amsgrad=True)\n",
    "criterion = nn.MSELoss()"
   ]
  },
  {
   "cell_type": "code",
   "execution_count": 23,
   "metadata": {},
   "outputs": [
    {
     "name": "stdout",
     "output_type": "stream",
     "text": [
      "60000 10000\n"
     ]
    }
   ],
   "source": [
    "trainDataLoader = Tdata.DataLoader(dataset = trainDataset, batch_size = batch_size, shuffle = True)\n",
    "testDataLoader = Tdata.DataLoader(dataset = testDataset)\n",
    "print(len(trainDataLoader.dataset), len(testDataLoader.dataset))"
   ]
  },
  {
   "cell_type": "code",
   "execution_count": 24,
   "metadata": {},
   "outputs": [
    {
     "name": "stdout",
     "output_type": "stream",
     "text": [
      "Epoch 0\n",
      "recon_error: 0.410\n",
      "perplexity: 9.814\n",
      "Time spent: 36.72s.\n",
      "\n",
      "Epoch 1\n",
      "recon_error: 0.247\n",
      "perplexity: 9.803\n",
      "Time spent: 74.26s.\n",
      "\n",
      "Epoch 2\n",
      "recon_error: 0.236\n",
      "perplexity: 9.811\n",
      "Time spent: 111.37s.\n",
      "\n",
      "Epoch 3\n",
      "recon_error: 0.233\n",
      "perplexity: 9.804\n",
      "Time spent: 148.07s.\n",
      "\n",
      "Epoch 4\n",
      "recon_error: 0.230\n",
      "perplexity: 9.812\n",
      "Time spent: 184.54s.\n",
      "\n",
      "Epoch 5\n",
      "recon_error: 0.228\n",
      "perplexity: 9.804\n",
      "Time spent: 223.07s.\n",
      "\n",
      "Epoch 6\n",
      "recon_error: 0.228\n",
      "perplexity: 9.802\n",
      "Time spent: 267.79s.\n",
      "\n",
      "Epoch 7\n",
      "recon_error: 0.227\n",
      "perplexity: 9.815\n",
      "Time spent: 326.49s.\n",
      "\n",
      "Epoch 8\n",
      "recon_error: 0.226\n",
      "perplexity: 9.808\n",
      "Time spent: 385.37s.\n",
      "\n",
      "Epoch 9\n",
      "recon_error: 0.225\n",
      "perplexity: 9.812\n",
      "Time spent: 444.48s.\n",
      "\n",
      "Epoch 10\n",
      "recon_error: 0.225\n",
      "perplexity: 9.809\n",
      "Time spent: 503.51s.\n",
      "\n",
      "Epoch 11\n",
      "recon_error: 0.224\n",
      "perplexity: 9.815\n",
      "Time spent: 561.02s.\n",
      "\n",
      "Epoch 12\n",
      "recon_error: 0.224\n",
      "perplexity: 9.815\n",
      "Time spent: 620.11s.\n",
      "\n",
      "Epoch 13\n",
      "recon_error: 0.223\n",
      "perplexity: 9.814\n",
      "Time spent: 677.86s.\n",
      "\n",
      "Epoch 14\n",
      "recon_error: 0.223\n",
      "perplexity: 9.811\n",
      "Time spent: 737.17s.\n",
      "\n",
      "Epoch 15\n",
      "recon_error: 0.222\n",
      "perplexity: 9.816\n",
      "Time spent: 793.64s.\n",
      "\n",
      "Epoch 16\n",
      "recon_error: 0.223\n",
      "perplexity: 9.806\n",
      "Time spent: 850.64s.\n",
      "\n",
      "Epoch 17\n",
      "recon_error: 0.223\n",
      "perplexity: 9.804\n",
      "Time spent: 907.38s.\n",
      "\n",
      "Epoch 18\n",
      "recon_error: 0.222\n",
      "perplexity: 9.814\n",
      "Time spent: 964.48s.\n",
      "\n",
      "Epoch 19\n",
      "recon_error: 0.222\n",
      "perplexity: 9.806\n",
      "Time spent: 1021.0s.\n",
      "\n",
      "Epoch 20\n",
      "recon_error: 0.221\n",
      "perplexity: 9.816\n",
      "Time spent: 1077.9s.\n",
      "\n",
      "Epoch 21\n",
      "recon_error: 0.221\n",
      "perplexity: 9.814\n",
      "Time spent: 1135.05s.\n",
      "\n",
      "Epoch 22\n",
      "recon_error: 0.221\n",
      "perplexity: 9.815\n",
      "Time spent: 1190.35s.\n",
      "\n",
      "Epoch 23\n",
      "recon_error: 0.221\n",
      "perplexity: 9.807\n",
      "Time spent: 1249.82s.\n",
      "\n",
      "Epoch 24\n",
      "recon_error: 0.221\n",
      "perplexity: 9.804\n",
      "Time spent: 1307.38s.\n",
      "\n",
      "Done.\n",
      "Time spent: 1307.39s.\n"
     ]
    }
   ],
   "source": [
    "train_recon_error = []\n",
    "train_perplexity = []\n",
    "startTime = time.time()\n",
    "for epoch in range(num_epochs):\n",
    "    model_S_VQ_VAE.train()\n",
    "    epoch_recon_error = []\n",
    "    epoch_perplexity = []\n",
    "    for step, data in enumerate(trainDataLoader):\n",
    "        optimizer.zero_grad()\n",
    "        inputData, label = data\n",
    "        inputData = inputData.to(device)\n",
    "        label = label.to(device)\n",
    "        vq_loss, data_recon, perplexity, _, encoded = model_S_VQ_VAE(inputData, label)\n",
    "        recon_error = criterion(data_recon, inputData)\n",
    "        loss = recon_error + vq_loss\n",
    "        loss.backward()\n",
    "\n",
    "        optimizer.step()\n",
    "    \n",
    "        epoch_recon_error.append(recon_error.item())\n",
    "        epoch_perplexity.append(perplexity.item())\n",
    "    recon_error = np.mean(epoch_recon_error)\n",
    "    mean_perplexity = np.mean(epoch_perplexity)\n",
    "    train_recon_error.append(recon_error)\n",
    "    train_perplexity.append(mean_perplexity)\n",
    "    print('Epoch %d' % epoch)\n",
    "    print('recon_error: %.3f' % recon_error)\n",
    "    print('perplexity: %.3f' % mean_perplexity)\n",
    "    timeSpent = round(time.time() - startTime, 2)\n",
    "    print('Time spent: ' + str(timeSpent) + 's.')\n",
    "    print('')\n",
    "timeSpent = round(time.time() - startTime, 2)\n",
    "print('Done.\\nTime spent: ' + str(timeSpent) + 's.')"
   ]
  },
  {
   "cell_type": "code",
   "execution_count": 25,
   "metadata": {
    "scrolled": true
   },
   "outputs": [
    {
     "data": {
      "text/plain": [
       "Text(0.5, 0, 'epoch')"
      ]
     },
     "execution_count": 25,
     "metadata": {},
     "output_type": "execute_result"
    },
    {
     "data": {
      "image/png": "[encoded data removed]",
      "text/plain": [
       "<Figure size 1152x576 with 2 Axes>"
      ]
     },
     "metadata": {
      "needs_background": "light"
     },
     "output_type": "display_data"
    }
   ],
   "source": [
    "f = plt.figure(figsize=(16,8))\n",
    "ax = f.add_subplot(1,2,1)\n",
    "ax.plot(train_recon_error)\n",
    "ax.set_title('NMSE.')\n",
    "ax.set_xlabel('epoch')\n",
    "\n",
    "ax = f.add_subplot(1,2,2)\n",
    "ax.plot(train_perplexity)\n",
    "ax.set_title('Average codebook usage (perplexity).')\n",
    "ax.set_xlabel('epoch')"
   ]
  },
  {
   "cell_type": "code",
   "execution_count": 26,
   "metadata": {},
   "outputs": [],
   "source": [
    "torch.save(model_S_VQ_VAE.encoder, 'S_VQ_VAE_encode.pth')\n",
    "torch.save(model_S_VQ_VAE.fc1, 'S_VQ_VAE_fc1.pth')\n",
    "torch.save(model_S_VQ_VAE._vq._embedding, 'S_VQ_VAE_embedding.pth')\n",
    "torch.save(model_S_VQ_VAE.decoder, 'S_VQ_VAE_decode.pth')"
   ]
  },
  {
   "cell_type": "code",
   "execution_count": 27,
   "metadata": {},
   "outputs": [
    {
     "name": "stdout",
     "output_type": "stream",
     "text": [
      "Test loss: 0.2192\n"
     ]
    }
   ],
   "source": [
    "model_S_VQ_VAE.eval()\n",
    "testLossList = []\n",
    "for step, data in enumerate(testDataLoader):\n",
    "    inputData, label = data\n",
    "    inputData = inputData.to(device)\n",
    "    label = label.to(device)\n",
    "    vq_loss, data_recon, _, _, _= model_S_VQ_VAE(inputData, label)\n",
    "    recon_error = criterion(data_recon, inputData)\n",
    "    loss = recon_error + vq_loss\n",
    "    testLossList.append(recon_error.item())\n",
    "print('Test loss: %.4f' % np.mean(testLossList))"
   ]
  },
  {
   "cell_type": "markdown",
   "metadata": {},
   "source": [
    "### Classification"
   ]
  },
  {
   "cell_type": "code",
   "execution_count": 28,
   "metadata": {},
   "outputs": [],
   "source": [
    "def S_VQ_VAE_encode(encoder, fc1, embedding, inputs):\n",
    "    # Encode\n",
    "    inputs = encoder(inputs)\n",
    "    inputs = inputs.view(-1, 8*8*50)\n",
    "    inputs = fc1(inputs)\n",
    "    num_embeddings = embedding.weight.shape[0]\n",
    "    \n",
    "    # Calculate distances\n",
    "    distances = (torch.sum(inputs**2, dim=1, keepdim=True) \n",
    "                + torch.sum(embedding.weight**2, dim=1)\n",
    "                - 2 * torch.matmul(inputs, embedding.weight.t()))\n",
    "            \n",
    "    # Encoding\n",
    "    encoding_indices = torch.argmin(distances, dim=1).unsqueeze(1)\n",
    "    encodings = torch.zeros(encoding_indices.shape[0], num_embeddings)\n",
    "    encodings.scatter_(1, encoding_indices, 1)\n",
    "    \n",
    "    return encodings"
   ]
  },
  {
   "cell_type": "code",
   "execution_count": 29,
   "metadata": {},
   "outputs": [
    {
     "name": "stdout",
     "output_type": "stream",
     "text": [
      "60000\n",
      "MINST prediction training accuracy: 0.829\n"
     ]
    }
   ],
   "source": [
    "tempLoader = Tdata.DataLoader(dataset = trainDataset)\n",
    "M = len(tempLoader.dataset)\n",
    "print(M)\n",
    "count = 0\n",
    "for data, label in tempLoader:\n",
    "    encodings = S_VQ_VAE_encode(model_S_VQ_VAE.encoder, model_S_VQ_VAE.fc1, model_S_VQ_VAE._vq._embedding, data)\n",
    "    ec = int(torch.argmax(encodings).numpy())\n",
    "    if ec == label:\n",
    "        count += 1\n",
    "print(\"MINST prediction training accuracy: \" + str(round(count / M,3)))"
   ]
  },
  {
   "cell_type": "code",
   "execution_count": 30,
   "metadata": {},
   "outputs": [
    {
     "name": "stdout",
     "output_type": "stream",
     "text": [
      "10000\n",
      "MINST prediction test accuracy: 0.837\n"
     ]
    }
   ],
   "source": [
    "M = len(testDataLoader.dataset)\n",
    "print(M)\n",
    "count = 0\n",
    "for data, label in testDataLoader:\n",
    "    encodings = S_VQ_VAE_encode(model_S_VQ_VAE.encoder, model_S_VQ_VAE.fc1, model_S_VQ_VAE._vq._embedding, data)\n",
    "    ec = int(torch.argmax(encodings).numpy())\n",
    "    if ec == label:\n",
    "        count += 1\n",
    "print(\"MINST prediction test accuracy: \" + str(round(count / M,3)))"
   ]
  },
  {
   "cell_type": "markdown",
   "metadata": {},
   "source": [
    "## S-VQ-VAE embedding frequency"
   ]
  },
  {
   "cell_type": "code",
   "execution_count": 31,
   "metadata": {},
   "outputs": [],
   "source": [
    "def S_VQ_VAE_encode(encoder, fc1, embedding, inputs):\n",
    "    # Encode\n",
    "    inputs = encoder(inputs)\n",
    "    inputs = inputs.view(-1, 8*8*50)\n",
    "    inputs = fc1(inputs)\n",
    "    num_embeddings = embedding.weight.shape[0]\n",
    "    \n",
    "    # Calculate distances\n",
    "    distances = (torch.sum(inputs**2, dim=1, keepdim=True) \n",
    "                + torch.sum(embedding.weight**2, dim=1)\n",
    "                - 2 * torch.matmul(inputs, embedding.weight.t()))\n",
    "            \n",
    "    # Encoding\n",
    "    encoding_indices = torch.argmin(distances, dim=1).unsqueeze(1)\n",
    "    encodings = torch.zeros(encoding_indices.shape[0], num_embeddings)\n",
    "    encodings.scatter_(1, encoding_indices, 1)\n",
    "    \n",
    "    return encodings"
   ]
  },
  {
   "cell_type": "code",
   "execution_count": 32,
   "metadata": {},
   "outputs": [],
   "source": [
    "S_VQ_VAE_encoder = torch.load(\"S_VQ_VAE_encode.pth\")\n",
    "S_VQ_VAE_fc1 = torch.load(\"S_VQ_VAE_fc1.pth\")\n",
    "S_VQ_VAE_embedding = torch.load(\"S_VQ_VAE_embedding.pth\")\n",
    "S_VQ_VAE_decoder = torch.load(\"S_VQ_VAE_decode.pth\")"
   ]
  },
  {
   "cell_type": "code",
   "execution_count": 35,
   "metadata": {},
   "outputs": [
    {
     "name": "stdout",
     "output_type": "stream",
     "text": [
      "Target embedding index: 9\n",
      "10\n",
      "[(9, 4546), (4, 539), (8, 186), (1, 179), (7, 164), (0, 140), (3, 97), (5, 75), (2, 16), (6, 7)]\n"
     ]
    },
    {
     "data": {
      "image/png": "[encoded data removed]",
      "text/plain": [
       "<Figure size 432x288 with 1 Axes>"
      ]
     },
     "metadata": {
      "needs_background": "light"
     },
     "output_type": "display_data"
    }
   ],
   "source": [
    "target = 9\n",
    "print(\"Target embedding index: \" + str(target))\n",
    "tempIndex = 0\n",
    "targetEncoding = {}\n",
    "encodingTarget = {}\n",
    "encodingNum = {}\n",
    "encodingList = []\n",
    "tempLoader = Tdata.DataLoader(dataset = trainDataset)\n",
    "for data in tempLoader:\n",
    "    tempIndex += 1\n",
    "    inputData, label = data\n",
    "    if label == target:\n",
    "        encodings = S_VQ_VAE_encode(S_VQ_VAE_encoder, S_VQ_VAE_fc1, S_VQ_VAE_embedding, inputData)\n",
    "        ec = int(torch.argmax(encodings).numpy())\n",
    "        targetEncoding[target] = ec\n",
    "        encodingTarget.setdefault(ec, [])\n",
    "        encodingTarget[ec].append(target)\n",
    "        c = encodingNum.setdefault(ec, 0)\n",
    "        encodingNum[ec] = c + 1\n",
    "        encodingList.append(ec)\n",
    "print(len(encodingTarget))\n",
    "print(sorted(encodingNum.items(), key = operator.itemgetter(1), reverse = True)[:20])\n",
    "locList = []\n",
    "heightList = []\n",
    "for e in sorted(encodingNum.keys()):\n",
    "    locList.append(e)\n",
    "    heightList.append(encodingNum[e])\n",
    "plt.xlim((0,10))\n",
    "plt.bar(locList, heightList)\n",
    "#plt.show()\n",
    "plt.savefig(\"classification\" + str(target) + \".png\", dpi=350)"
   ]
  },
  {
   "cell_type": "markdown",
   "metadata": {},
   "source": [
    "## Embeddings pairwise distance heatmap"
   ]
  },
  {
   "cell_type": "code",
   "execution_count": 36,
   "metadata": {},
   "outputs": [
    {
     "name": "stdout",
     "output_type": "stream",
     "text": [
      "(10, 3200)\n"
     ]
    }
   ],
   "source": [
    "embedding = S_VQ_VAE_embedding.weight.data.numpy()\n",
    "print(embedding.shape)"
   ]
  },
  {
   "cell_type": "code",
   "execution_count": 38,
   "metadata": {},
   "outputs": [
    {
     "name": "stdout",
     "output_type": "stream",
     "text": [
      "(10, 10)\n"
     ]
    },
    {
     "data": {
      "image/png": "[encoded data removed]",
      "text/plain": [
       "<Figure size 576x576 with 2 Axes>"
      ]
     },
     "metadata": {},
     "output_type": "display_data"
    }
   ],
   "source": [
    "pairwiseDistance = pairwise_distances(embedding)\n",
    "print(pairwiseDistance.shape)\n",
    "sns.set(rc={'figure.figsize':(8,8)})\n",
    "sns.heatmap(pairwiseDistance, cmap=\"BuGn_r\")\n",
    "plt.savefig(\"heatmap_MINST.png\", dpi=350)"
   ]
  },
  {
   "cell_type": "code",
   "execution_count": 39,
   "metadata": {},
   "outputs": [],
   "source": [
    "np.savetxt(\"embedding_MNIST.csv\", embedding, delimiter = ',')"
   ]
  },
  {
   "cell_type": "markdown",
   "metadata": {},
   "source": [
    "## S-VQ-VAE embedding code decoded images"
   ]
  },
  {
   "cell_type": "code",
   "execution_count": 40,
   "metadata": {},
   "outputs": [],
   "source": [
    "def S_VQ_VAE_decode(embedding, decoder, code_index):\n",
    "    num_embeddings = embedding.weight.shape[0]\n",
    "            \n",
    "    # Encoding\n",
    "    encoding_indices = torch.tensor([[code_index]])\n",
    "    #print(code_index, encoding_indices)\n",
    "    encodings = torch.zeros(encoding_indices.shape[0], num_embeddings)\n",
    "    encodings.scatter_(1, encoding_indices, 1)\n",
    "    \n",
    "    # Quantize\n",
    "    quantized = torch.matmul(encodings, embedding.weight)\n",
    "    quantized = quantized.view(-1,50,8,8)\n",
    "    \n",
    "    # Decode\n",
    "    x_recon = decoder(quantized)\n",
    "    \n",
    "    return x_recon"
   ]
  },
  {
   "cell_type": "code",
   "execution_count": 41,
   "metadata": {},
   "outputs": [],
   "source": [
    "S_VQ_VAE_encoder = torch.load(\"S_VQ_VAE_encode.pth\")\n",
    "S_VQ_VAE_fc1 = torch.load(\"S_VQ_VAE_fc1.pth\")\n",
    "S_VQ_VAE_embedding = torch.load(\"S_VQ_VAE_embedding.pth\")\n",
    "S_VQ_VAE_decoder = torch.load(\"S_VQ_VAE_decode.pth\")"
   ]
  },
  {
   "cell_type": "code",
   "execution_count": 43,
   "metadata": {},
   "outputs": [
    {
     "name": "stdout",
     "output_type": "stream",
     "text": [
      "0\n",
      "1\n",
      "2\n",
      "3\n",
      "4\n",
      "5\n",
      "6\n",
      "7\n",
      "8\n",
      "9\n"
     ]
    },
    {
     "data": {
      "image/png": "[encoded data removed]",
      "text/plain": [
       "<Figure size 576x576 with 1 Axes>"
      ]
     },
     "metadata": {},
     "output_type": "display_data"
    }
   ],
   "source": [
    "for i in range(10):\n",
    "    print(i)\n",
    "    recon = S_VQ_VAE_decode(S_VQ_VAE_embedding, S_VQ_VAE_decoder, i)\n",
    "    plt.imshow(recon.data.numpy()[0][0], cmap='gray')\n",
    "    plt.savefig(\"recon\" + str(i) + \".png\", dpi=350)"
   ]
  },
  {
   "cell_type": "code",
   "execution_count": null,
   "metadata": {},
   "outputs": [],
   "source": []
  }
 ],
 "metadata": {
  "interpreter": {
   "hash": "a5e2e4bc276a04b67f81faa3e5c75214b8efe6442e3cd525a6a39747eb19c00d"
  },
  "kernelspec": {
   "display_name": "Python 2",
   "language": "python",
   "name": "python3"
  },
  "language_info": {
   "codemirror_mode": {
    "name": "ipython",
    "version": 3
   },
   "file_extension": ".py",
   "mimetype": "text/x-python",
   "name": "python",
   "nbconvert_exporter": "python",
   "pygments_lexer": "ipython3",
   "version": "3.7.1"
  }
 },
 "nbformat": 4,
 "nbformat_minor": 2
}
